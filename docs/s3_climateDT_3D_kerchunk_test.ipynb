{
 "cells": [
  {
   "cell_type": "markdown",
   "id": "2c3415a8-628a-45e5-91b7-18d09d6b16ef",
   "metadata": {},
   "source": [
    "# Create Kerchunk catalog for CMEMS\n",
    "\n",
    "\n",
    "## Set up credentials on GFTS buckets\n",
    "\n",
    "Credentials are stored in the `gfts` profile in your `~/.aws/credentials`. This file is generated automatically on GFTS Jupyterhub.\n",
    "\n",
    "You can view them with `~/.aws/credentials`.\n",
    "\n",
    "- access keys are in profile named `gfts`\n",
    "- endpoint_url is `https://s3.gra.perf.cloud.ovh.net`\n",
    "- region_name is `gra`\n",
    "\n",
    "You should have read and write permissions to the bucket, but not delete"
   ]
  },
  {
   "cell_type": "code",
   "execution_count": null,
   "id": "be93368e-ead1-4172-ad25-387a0e5906af",
   "metadata": {},
   "outputs": [],
   "source": [
    "# !cat ~/.aws/credentials"
   ]
  },
  {
   "cell_type": "code",
   "execution_count": 1,
   "id": "6e1d5d7c-7d4a-4e44-8941-26eb18998a7a",
   "metadata": {},
   "outputs": [],
   "source": [
    "import os\n",
    "import ujson\n",
    "import fsspec\n",
    "import xarray as xr\n",
    "\n",
    "from pathlib import Path\n",
    "from kerchunk.grib2 import scan_grib\n",
    "from kerchunk.combine import MultiZarrToZarr"
   ]
  },
  {
   "cell_type": "code",
   "execution_count": 2,
   "id": "2381f8fa-e0a5-408b-8202-65cdaea0231a",
   "metadata": {},
   "outputs": [],
   "source": [
    "s3 = fsspec.filesystem('s3',\n",
    "    anon=False,\n",
    "    profile=\"gfts\",\n",
    "    client_kwargs={\n",
    "        \"endpoint_url\": \"https://s3.gra.perf.cloud.ovh.net\",\n",
    "        \"region_name\": \"gra\",\n",
    "    },\n",
    ")"
   ]
  },
  {
   "cell_type": "markdown",
   "id": "e0926431-bc1c-416c-b88a-02ec28c5a8ea",
   "metadata": {},
   "source": [
    "## Create catalog for CimateDT od3 data"
   ]
  },
  {
   "cell_type": "code",
   "execution_count": 3,
   "id": "2a43a152-4c99-4f79-a0fa-d96f96361f11",
   "metadata": {
    "scrolled": true
   },
   "outputs": [
    {
     "data": {
      "text/plain": [
       "['gfts-reference-data/ClimateDT/raw/avg_hc300m_ifs-nemo_20210601-20210615.grib',\n",
       " 'gfts-reference-data/ClimateDT/raw/avg_hc300m_ifs-nemo_20210616-20210630.grib',\n",
       " 'gfts-reference-data/ClimateDT/raw/avg_hc300m_ifs-nemo_20220601-20220615.grib',\n",
       " 'gfts-reference-data/ClimateDT/raw/avg_hc300m_ifs-nemo_20220616-20220630.grib',\n",
       " 'gfts-reference-data/ClimateDT/raw/avg_hc300m_ifs-nemo_20230601-20230615.grib',\n",
       " 'gfts-reference-data/ClimateDT/raw/avg_hc300m_ifs-nemo_20230616-20230630.grib',\n",
       " 'gfts-reference-data/ClimateDT/raw/avg_hc300m_ifs-nemo_20240601-20240615.grib',\n",
       " 'gfts-reference-data/ClimateDT/raw/avg_hc300m_ifs-nemo_20240616-20240630.grib',\n",
       " 'gfts-reference-data/ClimateDT/raw/avg_hc700m_ifs-nemo_20210601-20210615.grib',\n",
       " 'gfts-reference-data/ClimateDT/raw/avg_hc700m_ifs-nemo_20210616-20210630.grib',\n",
       " 'gfts-reference-data/ClimateDT/raw/avg_hc700m_ifs-nemo_20220601-20220615.grib',\n",
       " 'gfts-reference-data/ClimateDT/raw/avg_hc700m_ifs-nemo_20220616-20220630.grib',\n",
       " 'gfts-reference-data/ClimateDT/raw/avg_hc700m_ifs-nemo_20230601-20230615.grib',\n",
       " 'gfts-reference-data/ClimateDT/raw/avg_hc700m_ifs-nemo_20230616-20230630.grib',\n",
       " 'gfts-reference-data/ClimateDT/raw/avg_hc700m_ifs-nemo_20240601-20240615.grib',\n",
       " 'gfts-reference-data/ClimateDT/raw/avg_hc700m_ifs-nemo_20240616-20240630.grib',\n",
       " 'gfts-reference-data/ClimateDT/raw/avg_so_ifs-nemo_20210601-20210615.grib',\n",
       " 'gfts-reference-data/ClimateDT/raw/avg_so_ifs-nemo_20210616-20210630.grib',\n",
       " 'gfts-reference-data/ClimateDT/raw/avg_so_ifs-nemo_20220601-20220615.grib',\n",
       " 'gfts-reference-data/ClimateDT/raw/avg_so_ifs-nemo_20220616-20220630.grib',\n",
       " 'gfts-reference-data/ClimateDT/raw/avg_so_ifs-nemo_20230601-20230615.grib',\n",
       " 'gfts-reference-data/ClimateDT/raw/avg_so_ifs-nemo_20230616-20230630.grib',\n",
       " 'gfts-reference-data/ClimateDT/raw/avg_so_ifs-nemo_20240601-20240615.grib',\n",
       " 'gfts-reference-data/ClimateDT/raw/avg_so_ifs-nemo_20240616-20240630.grib',\n",
       " 'gfts-reference-data/ClimateDT/raw/avg_sos_ifs-nemo_20210601-20210615.grib',\n",
       " 'gfts-reference-data/ClimateDT/raw/avg_sos_ifs-nemo_20210616-20210630.grib',\n",
       " 'gfts-reference-data/ClimateDT/raw/avg_sos_ifs-nemo_20220601-20220615.grib',\n",
       " 'gfts-reference-data/ClimateDT/raw/avg_sos_ifs-nemo_20220616-20220630.grib',\n",
       " 'gfts-reference-data/ClimateDT/raw/avg_sos_ifs-nemo_20230601-20230615.grib',\n",
       " 'gfts-reference-data/ClimateDT/raw/avg_sos_ifs-nemo_20230616-20230630.grib',\n",
       " 'gfts-reference-data/ClimateDT/raw/avg_sos_ifs-nemo_20240601-20240615.grib',\n",
       " 'gfts-reference-data/ClimateDT/raw/avg_sos_ifs-nemo_20240616-20240630.grib',\n",
       " 'gfts-reference-data/ClimateDT/raw/avg_thetao_icon_20210601-20210615.grib',\n",
       " 'gfts-reference-data/ClimateDT/raw/avg_thetao_icon_20210616-20210630.grib',\n",
       " 'gfts-reference-data/ClimateDT/raw/avg_thetao_icon_20220601-20220615.grib',\n",
       " 'gfts-reference-data/ClimateDT/raw/avg_thetao_ifs-nemo_20210601-20210615.grib',\n",
       " 'gfts-reference-data/ClimateDT/raw/avg_thetao_ifs-nemo_20210616-20210630.grib',\n",
       " 'gfts-reference-data/ClimateDT/raw/avg_thetao_ifs-nemo_20220601-20220615.grib',\n",
       " 'gfts-reference-data/ClimateDT/raw/avg_thetao_ifs-nemo_20220616-20220630.grib',\n",
       " 'gfts-reference-data/ClimateDT/raw/avg_thetao_ifs-nemo_20230601-20230615.grib',\n",
       " 'gfts-reference-data/ClimateDT/raw/avg_thetao_ifs-nemo_20230616-20230630.grib',\n",
       " 'gfts-reference-data/ClimateDT/raw/avg_thetao_ifs-nemo_20240601-20240615.grib',\n",
       " 'gfts-reference-data/ClimateDT/raw/avg_thetao_ifs-nemo_20240616-20240630.grib',\n",
       " 'gfts-reference-data/ClimateDT/raw/avg_tos_ifs-nemo_20210601-20210615.grib',\n",
       " 'gfts-reference-data/ClimateDT/raw/avg_tos_ifs-nemo_20210616-20210630.grib',\n",
       " 'gfts-reference-data/ClimateDT/raw/avg_tos_ifs-nemo_20220601-20220615.grib',\n",
       " 'gfts-reference-data/ClimateDT/raw/avg_tos_ifs-nemo_20220616-20220630.grib',\n",
       " 'gfts-reference-data/ClimateDT/raw/avg_tos_ifs-nemo_20230601-20230615.grib',\n",
       " 'gfts-reference-data/ClimateDT/raw/avg_tos_ifs-nemo_20230616-20230630.grib',\n",
       " 'gfts-reference-data/ClimateDT/raw/avg_tos_ifs-nemo_20240601-20240615.grib',\n",
       " 'gfts-reference-data/ClimateDT/raw/avg_tos_ifs-nemo_20240616-20240630.grib',\n",
       " 'gfts-reference-data/ClimateDT/raw/avg_uoe_ifs-nemo_20210601-20210615.grib',\n",
       " 'gfts-reference-data/ClimateDT/raw/avg_uoe_ifs-nemo_20210616-20210630.grib',\n",
       " 'gfts-reference-data/ClimateDT/raw/avg_uoe_ifs-nemo_20220601-20220615.grib',\n",
       " 'gfts-reference-data/ClimateDT/raw/avg_uoe_ifs-nemo_20220616-20220630.grib',\n",
       " 'gfts-reference-data/ClimateDT/raw/avg_uoe_ifs-nemo_20230601-20230615.grib',\n",
       " 'gfts-reference-data/ClimateDT/raw/avg_uoe_ifs-nemo_20230616-20230630.grib',\n",
       " 'gfts-reference-data/ClimateDT/raw/avg_uoe_ifs-nemo_20240601-20240615.grib',\n",
       " 'gfts-reference-data/ClimateDT/raw/avg_uoe_ifs-nemo_20240616-20240630.grib',\n",
       " 'gfts-reference-data/ClimateDT/raw/avg_von_ifs-nemo_20210601-20210615.grib',\n",
       " 'gfts-reference-data/ClimateDT/raw/avg_von_ifs-nemo_20210616-20210630.grib',\n",
       " 'gfts-reference-data/ClimateDT/raw/avg_von_ifs-nemo_20220601-20220615.grib',\n",
       " 'gfts-reference-data/ClimateDT/raw/avg_von_ifs-nemo_20220616-20220630.grib',\n",
       " 'gfts-reference-data/ClimateDT/raw/avg_von_ifs-nemo_20230601-20230615.grib',\n",
       " 'gfts-reference-data/ClimateDT/raw/avg_von_ifs-nemo_20230616-20230630.grib',\n",
       " 'gfts-reference-data/ClimateDT/raw/avg_von_ifs-nemo_20240601-20240615.grib',\n",
       " 'gfts-reference-data/ClimateDT/raw/avg_von_ifs-nemo_20240616-20240630.grib',\n",
       " 'gfts-reference-data/ClimateDT/raw/avg_wo_ifs-nemo_20210601-20210615.grib',\n",
       " 'gfts-reference-data/ClimateDT/raw/avg_wo_ifs-nemo_20210616-20210630.grib',\n",
       " 'gfts-reference-data/ClimateDT/raw/avg_wo_ifs-nemo_20220601-20220615.grib',\n",
       " 'gfts-reference-data/ClimateDT/raw/avg_wo_ifs-nemo_20220616-20220630.grib',\n",
       " 'gfts-reference-data/ClimateDT/raw/avg_wo_ifs-nemo_20230601-20230615.grib',\n",
       " 'gfts-reference-data/ClimateDT/raw/avg_wo_ifs-nemo_20230616-20230630.grib',\n",
       " 'gfts-reference-data/ClimateDT/raw/avg_wo_ifs-nemo_20240601-20240615.grib',\n",
       " 'gfts-reference-data/ClimateDT/raw/avg_wo_ifs-nemo_20240616-20240630.grib',\n",
       " 'gfts-reference-data/ClimateDT/raw/avg_zos_icon_20210601-20210615.grib',\n",
       " 'gfts-reference-data/ClimateDT/raw/avg_zos_icon_20210616-20210630.grib',\n",
       " 'gfts-reference-data/ClimateDT/raw/avg_zos_icon_20220601-20220615.grib',\n",
       " 'gfts-reference-data/ClimateDT/raw/avg_zos_icon_20220616-20220630.grib',\n",
       " 'gfts-reference-data/ClimateDT/raw/avg_zos_icon_20230601-20230615.grib',\n",
       " 'gfts-reference-data/ClimateDT/raw/avg_zos_icon_20230616-20230630.grib',\n",
       " 'gfts-reference-data/ClimateDT/raw/avg_zos_icon_20240601-20240615.grib',\n",
       " 'gfts-reference-data/ClimateDT/raw/avg_zos_icon_20240616-20240630.grib',\n",
       " 'gfts-reference-data/ClimateDT/raw/avg_zos_ifs-nemo_20210601-20210615.grib',\n",
       " 'gfts-reference-data/ClimateDT/raw/avg_zos_ifs-nemo_20210616-20210630.grib',\n",
       " 'gfts-reference-data/ClimateDT/raw/avg_zos_ifs-nemo_20220601-20220615.grib',\n",
       " 'gfts-reference-data/ClimateDT/raw/avg_zos_ifs-nemo_20220616-20220630.grib',\n",
       " 'gfts-reference-data/ClimateDT/raw/avg_zos_ifs-nemo_20230601-20230615.grib',\n",
       " 'gfts-reference-data/ClimateDT/raw/avg_zos_ifs-nemo_20230616-20230630.grib',\n",
       " 'gfts-reference-data/ClimateDT/raw/avg_zos_ifs-nemo_20240601-20240615.grib',\n",
       " 'gfts-reference-data/ClimateDT/raw/avg_zos_ifs-nemo_20240616-20240630.grib',\n",
       " 'gfts-reference-data/ClimateDT/raw/lsm.grib',\n",
       " 'gfts-reference-data/ClimateDT/raw/slhf_icon_20210601-20210615.grib',\n",
       " 'gfts-reference-data/ClimateDT/raw/slhf_icon_20210616-20210630.grib',\n",
       " 'gfts-reference-data/ClimateDT/raw/slhf_icon_20220601-20220615.grib',\n",
       " 'gfts-reference-data/ClimateDT/raw/slhf_icon_20220616-20220630.grib',\n",
       " 'gfts-reference-data/ClimateDT/raw/slhf_icon_20230601-20230615.grib',\n",
       " 'gfts-reference-data/ClimateDT/raw/slhf_icon_20230616-20230630.grib',\n",
       " 'gfts-reference-data/ClimateDT/raw/slhf_icon_20240601-20240615.grib',\n",
       " 'gfts-reference-data/ClimateDT/raw/slhf_icon_20240616-20240630.grib',\n",
       " 'gfts-reference-data/ClimateDT/raw/slhf_ifs-nemo_20210601-20210615.grib',\n",
       " 'gfts-reference-data/ClimateDT/raw/slhf_ifs-nemo_20210616-20210630.grib',\n",
       " 'gfts-reference-data/ClimateDT/raw/slhf_ifs-nemo_20220601-20220615.grib',\n",
       " 'gfts-reference-data/ClimateDT/raw/slhf_ifs-nemo_20220616-20220630.grib',\n",
       " 'gfts-reference-data/ClimateDT/raw/slhf_ifs-nemo_20230601-20230615.grib',\n",
       " 'gfts-reference-data/ClimateDT/raw/slhf_ifs-nemo_20230616-20230630.grib',\n",
       " 'gfts-reference-data/ClimateDT/raw/slhf_ifs-nemo_20240601-20240615.grib',\n",
       " 'gfts-reference-data/ClimateDT/raw/slhf_ifs-nemo_20240616-20240630.grib',\n",
       " 'gfts-reference-data/ClimateDT/raw/sshf_icon_20210601-20210615.grib',\n",
       " 'gfts-reference-data/ClimateDT/raw/sshf_icon_20220601-20220615.grib',\n",
       " 'gfts-reference-data/ClimateDT/raw/sshf_icon_20220616-20220630.grib',\n",
       " 'gfts-reference-data/ClimateDT/raw/sshf_icon_20230601-20230615.grib',\n",
       " 'gfts-reference-data/ClimateDT/raw/sshf_icon_20230616-20230630.grib',\n",
       " 'gfts-reference-data/ClimateDT/raw/sshf_icon_20240601-20240615.grib',\n",
       " 'gfts-reference-data/ClimateDT/raw/sshf_icon_20240616-20240630.grib',\n",
       " 'gfts-reference-data/ClimateDT/raw/sshf_ifs-nemo_20210601-20210615.grib',\n",
       " 'gfts-reference-data/ClimateDT/raw/sshf_ifs-nemo_20210616-20210630.grib',\n",
       " 'gfts-reference-data/ClimateDT/raw/sshf_ifs-nemo_20220601-20220615.grib',\n",
       " 'gfts-reference-data/ClimateDT/raw/sshf_ifs-nemo_20220616-20220630.grib',\n",
       " 'gfts-reference-data/ClimateDT/raw/sshf_ifs-nemo_20230601-20230615.grib',\n",
       " 'gfts-reference-data/ClimateDT/raw/sshf_ifs-nemo_20230616-20230630.grib',\n",
       " 'gfts-reference-data/ClimateDT/raw/sshf_ifs-nemo_20240601-20240615.grib',\n",
       " 'gfts-reference-data/ClimateDT/raw/sshf_ifs-nemo_20240616-20240630.grib']"
      ]
     },
     "execution_count": 3,
     "metadata": {},
     "output_type": "execute_result"
    }
   ],
   "source": [
    "bucket_name = 'gfts-reference-data/ClimateDT/raw'\n",
    "s3.ls(bucket_name)"
   ]
  },
  {
   "cell_type": "code",
   "execution_count": 4,
   "id": "aa1a5339-ad04-4d30-895e-4c9db7913d15",
   "metadata": {},
   "outputs": [],
   "source": [
    "s3path = 's3://gfts-reference-data/ClimateDT/raw/*ifs-nemo_*.grib'"
   ]
  },
  {
   "cell_type": "code",
   "execution_count": 5,
   "id": "13cf9155-9d21-4e60-a1e9-82cc94565034",
   "metadata": {
    "scrolled": true
   },
   "outputs": [
    {
     "data": {
      "text/plain": [
       "['gfts-reference-data/ClimateDT/raw/avg_hc300m_ifs-nemo_20210601-20210615.grib',\n",
       " 'gfts-reference-data/ClimateDT/raw/avg_hc300m_ifs-nemo_20210616-20210630.grib',\n",
       " 'gfts-reference-data/ClimateDT/raw/avg_hc300m_ifs-nemo_20220601-20220615.grib',\n",
       " 'gfts-reference-data/ClimateDT/raw/avg_hc300m_ifs-nemo_20220616-20220630.grib',\n",
       " 'gfts-reference-data/ClimateDT/raw/avg_hc300m_ifs-nemo_20230601-20230615.grib',\n",
       " 'gfts-reference-data/ClimateDT/raw/avg_hc300m_ifs-nemo_20230616-20230630.grib',\n",
       " 'gfts-reference-data/ClimateDT/raw/avg_hc300m_ifs-nemo_20240601-20240615.grib',\n",
       " 'gfts-reference-data/ClimateDT/raw/avg_hc300m_ifs-nemo_20240616-20240630.grib',\n",
       " 'gfts-reference-data/ClimateDT/raw/avg_hc700m_ifs-nemo_20210601-20210615.grib',\n",
       " 'gfts-reference-data/ClimateDT/raw/avg_hc700m_ifs-nemo_20210616-20210630.grib',\n",
       " 'gfts-reference-data/ClimateDT/raw/avg_hc700m_ifs-nemo_20220601-20220615.grib',\n",
       " 'gfts-reference-data/ClimateDT/raw/avg_hc700m_ifs-nemo_20220616-20220630.grib',\n",
       " 'gfts-reference-data/ClimateDT/raw/avg_hc700m_ifs-nemo_20230601-20230615.grib',\n",
       " 'gfts-reference-data/ClimateDT/raw/avg_hc700m_ifs-nemo_20230616-20230630.grib',\n",
       " 'gfts-reference-data/ClimateDT/raw/avg_hc700m_ifs-nemo_20240601-20240615.grib',\n",
       " 'gfts-reference-data/ClimateDT/raw/avg_hc700m_ifs-nemo_20240616-20240630.grib',\n",
       " 'gfts-reference-data/ClimateDT/raw/avg_so_ifs-nemo_20210601-20210615.grib',\n",
       " 'gfts-reference-data/ClimateDT/raw/avg_so_ifs-nemo_20210616-20210630.grib',\n",
       " 'gfts-reference-data/ClimateDT/raw/avg_so_ifs-nemo_20220601-20220615.grib',\n",
       " 'gfts-reference-data/ClimateDT/raw/avg_so_ifs-nemo_20220616-20220630.grib',\n",
       " 'gfts-reference-data/ClimateDT/raw/avg_so_ifs-nemo_20230601-20230615.grib',\n",
       " 'gfts-reference-data/ClimateDT/raw/avg_so_ifs-nemo_20230616-20230630.grib',\n",
       " 'gfts-reference-data/ClimateDT/raw/avg_so_ifs-nemo_20240601-20240615.grib',\n",
       " 'gfts-reference-data/ClimateDT/raw/avg_so_ifs-nemo_20240616-20240630.grib',\n",
       " 'gfts-reference-data/ClimateDT/raw/avg_sos_ifs-nemo_20210601-20210615.grib',\n",
       " 'gfts-reference-data/ClimateDT/raw/avg_sos_ifs-nemo_20210616-20210630.grib',\n",
       " 'gfts-reference-data/ClimateDT/raw/avg_sos_ifs-nemo_20220601-20220615.grib',\n",
       " 'gfts-reference-data/ClimateDT/raw/avg_sos_ifs-nemo_20220616-20220630.grib',\n",
       " 'gfts-reference-data/ClimateDT/raw/avg_sos_ifs-nemo_20230601-20230615.grib',\n",
       " 'gfts-reference-data/ClimateDT/raw/avg_sos_ifs-nemo_20230616-20230630.grib',\n",
       " 'gfts-reference-data/ClimateDT/raw/avg_sos_ifs-nemo_20240601-20240615.grib',\n",
       " 'gfts-reference-data/ClimateDT/raw/avg_sos_ifs-nemo_20240616-20240630.grib',\n",
       " 'gfts-reference-data/ClimateDT/raw/avg_thetao_ifs-nemo_20210601-20210615.grib',\n",
       " 'gfts-reference-data/ClimateDT/raw/avg_thetao_ifs-nemo_20210616-20210630.grib',\n",
       " 'gfts-reference-data/ClimateDT/raw/avg_thetao_ifs-nemo_20220601-20220615.grib',\n",
       " 'gfts-reference-data/ClimateDT/raw/avg_thetao_ifs-nemo_20220616-20220630.grib',\n",
       " 'gfts-reference-data/ClimateDT/raw/avg_thetao_ifs-nemo_20230601-20230615.grib',\n",
       " 'gfts-reference-data/ClimateDT/raw/avg_thetao_ifs-nemo_20230616-20230630.grib',\n",
       " 'gfts-reference-data/ClimateDT/raw/avg_thetao_ifs-nemo_20240601-20240615.grib',\n",
       " 'gfts-reference-data/ClimateDT/raw/avg_thetao_ifs-nemo_20240616-20240630.grib',\n",
       " 'gfts-reference-data/ClimateDT/raw/avg_tos_ifs-nemo_20210601-20210615.grib',\n",
       " 'gfts-reference-data/ClimateDT/raw/avg_tos_ifs-nemo_20210616-20210630.grib',\n",
       " 'gfts-reference-data/ClimateDT/raw/avg_tos_ifs-nemo_20220601-20220615.grib',\n",
       " 'gfts-reference-data/ClimateDT/raw/avg_tos_ifs-nemo_20220616-20220630.grib',\n",
       " 'gfts-reference-data/ClimateDT/raw/avg_tos_ifs-nemo_20230601-20230615.grib',\n",
       " 'gfts-reference-data/ClimateDT/raw/avg_tos_ifs-nemo_20230616-20230630.grib',\n",
       " 'gfts-reference-data/ClimateDT/raw/avg_tos_ifs-nemo_20240601-20240615.grib',\n",
       " 'gfts-reference-data/ClimateDT/raw/avg_tos_ifs-nemo_20240616-20240630.grib',\n",
       " 'gfts-reference-data/ClimateDT/raw/avg_uoe_ifs-nemo_20210601-20210615.grib',\n",
       " 'gfts-reference-data/ClimateDT/raw/avg_uoe_ifs-nemo_20210616-20210630.grib',\n",
       " 'gfts-reference-data/ClimateDT/raw/avg_uoe_ifs-nemo_20220601-20220615.grib',\n",
       " 'gfts-reference-data/ClimateDT/raw/avg_uoe_ifs-nemo_20220616-20220630.grib',\n",
       " 'gfts-reference-data/ClimateDT/raw/avg_uoe_ifs-nemo_20230601-20230615.grib',\n",
       " 'gfts-reference-data/ClimateDT/raw/avg_uoe_ifs-nemo_20230616-20230630.grib',\n",
       " 'gfts-reference-data/ClimateDT/raw/avg_uoe_ifs-nemo_20240601-20240615.grib',\n",
       " 'gfts-reference-data/ClimateDT/raw/avg_uoe_ifs-nemo_20240616-20240630.grib',\n",
       " 'gfts-reference-data/ClimateDT/raw/avg_von_ifs-nemo_20210601-20210615.grib',\n",
       " 'gfts-reference-data/ClimateDT/raw/avg_von_ifs-nemo_20210616-20210630.grib',\n",
       " 'gfts-reference-data/ClimateDT/raw/avg_von_ifs-nemo_20220601-20220615.grib',\n",
       " 'gfts-reference-data/ClimateDT/raw/avg_von_ifs-nemo_20220616-20220630.grib',\n",
       " 'gfts-reference-data/ClimateDT/raw/avg_von_ifs-nemo_20230601-20230615.grib',\n",
       " 'gfts-reference-data/ClimateDT/raw/avg_von_ifs-nemo_20230616-20230630.grib',\n",
       " 'gfts-reference-data/ClimateDT/raw/avg_von_ifs-nemo_20240601-20240615.grib',\n",
       " 'gfts-reference-data/ClimateDT/raw/avg_von_ifs-nemo_20240616-20240630.grib',\n",
       " 'gfts-reference-data/ClimateDT/raw/avg_wo_ifs-nemo_20210601-20210615.grib',\n",
       " 'gfts-reference-data/ClimateDT/raw/avg_wo_ifs-nemo_20210616-20210630.grib',\n",
       " 'gfts-reference-data/ClimateDT/raw/avg_wo_ifs-nemo_20220601-20220615.grib',\n",
       " 'gfts-reference-data/ClimateDT/raw/avg_wo_ifs-nemo_20220616-20220630.grib',\n",
       " 'gfts-reference-data/ClimateDT/raw/avg_wo_ifs-nemo_20230601-20230615.grib',\n",
       " 'gfts-reference-data/ClimateDT/raw/avg_wo_ifs-nemo_20230616-20230630.grib',\n",
       " 'gfts-reference-data/ClimateDT/raw/avg_wo_ifs-nemo_20240601-20240615.grib',\n",
       " 'gfts-reference-data/ClimateDT/raw/avg_wo_ifs-nemo_20240616-20240630.grib',\n",
       " 'gfts-reference-data/ClimateDT/raw/avg_zos_ifs-nemo_20210601-20210615.grib',\n",
       " 'gfts-reference-data/ClimateDT/raw/avg_zos_ifs-nemo_20210616-20210630.grib',\n",
       " 'gfts-reference-data/ClimateDT/raw/avg_zos_ifs-nemo_20220601-20220615.grib',\n",
       " 'gfts-reference-data/ClimateDT/raw/avg_zos_ifs-nemo_20220616-20220630.grib',\n",
       " 'gfts-reference-data/ClimateDT/raw/avg_zos_ifs-nemo_20230601-20230615.grib',\n",
       " 'gfts-reference-data/ClimateDT/raw/avg_zos_ifs-nemo_20230616-20230630.grib',\n",
       " 'gfts-reference-data/ClimateDT/raw/avg_zos_ifs-nemo_20240601-20240615.grib',\n",
       " 'gfts-reference-data/ClimateDT/raw/avg_zos_ifs-nemo_20240616-20240630.grib',\n",
       " 'gfts-reference-data/ClimateDT/raw/slhf_ifs-nemo_20210601-20210615.grib',\n",
       " 'gfts-reference-data/ClimateDT/raw/slhf_ifs-nemo_20210616-20210630.grib',\n",
       " 'gfts-reference-data/ClimateDT/raw/slhf_ifs-nemo_20220601-20220615.grib',\n",
       " 'gfts-reference-data/ClimateDT/raw/slhf_ifs-nemo_20220616-20220630.grib',\n",
       " 'gfts-reference-data/ClimateDT/raw/slhf_ifs-nemo_20230601-20230615.grib',\n",
       " 'gfts-reference-data/ClimateDT/raw/slhf_ifs-nemo_20230616-20230630.grib',\n",
       " 'gfts-reference-data/ClimateDT/raw/slhf_ifs-nemo_20240601-20240615.grib',\n",
       " 'gfts-reference-data/ClimateDT/raw/slhf_ifs-nemo_20240616-20240630.grib',\n",
       " 'gfts-reference-data/ClimateDT/raw/sshf_ifs-nemo_20210601-20210615.grib',\n",
       " 'gfts-reference-data/ClimateDT/raw/sshf_ifs-nemo_20210616-20210630.grib',\n",
       " 'gfts-reference-data/ClimateDT/raw/sshf_ifs-nemo_20220601-20220615.grib',\n",
       " 'gfts-reference-data/ClimateDT/raw/sshf_ifs-nemo_20220616-20220630.grib',\n",
       " 'gfts-reference-data/ClimateDT/raw/sshf_ifs-nemo_20230601-20230615.grib',\n",
       " 'gfts-reference-data/ClimateDT/raw/sshf_ifs-nemo_20230616-20230630.grib',\n",
       " 'gfts-reference-data/ClimateDT/raw/sshf_ifs-nemo_20240601-20240615.grib',\n",
       " 'gfts-reference-data/ClimateDT/raw/sshf_ifs-nemo_20240616-20240630.grib']"
      ]
     },
     "execution_count": 5,
     "metadata": {},
     "output_type": "execute_result"
    }
   ],
   "source": [
    "remote_files = s3.glob(s3path)\n",
    "remote_files"
   ]
  },
  {
   "cell_type": "code",
   "execution_count": 6,
   "id": "c1f2b831-085e-49d4-993a-70fc42be503b",
   "metadata": {},
   "outputs": [],
   "source": [
    "ocean3d_param = [\"avg_thetao\", \"avg_so\", \"avg_von\", \"avg_uoe\", \"avg_wo\"]"
   ]
  },
  {
   "cell_type": "code",
   "execution_count": 7,
   "id": "690a2f36-978a-45bb-8521-529b5f361016",
   "metadata": {
    "scrolled": true
   },
   "outputs": [
    {
     "name": "stdout",
     "output_type": "stream",
     "text": [
      "3D :  ['gfts-reference-data/ClimateDT/raw/avg_so_ifs-nemo_20210601-20210615.grib', 'gfts-reference-data/ClimateDT/raw/avg_so_ifs-nemo_20210616-20210630.grib', 'gfts-reference-data/ClimateDT/raw/avg_so_ifs-nemo_20220601-20220615.grib', 'gfts-reference-data/ClimateDT/raw/avg_so_ifs-nemo_20220616-20220630.grib', 'gfts-reference-data/ClimateDT/raw/avg_so_ifs-nemo_20230601-20230615.grib', 'gfts-reference-data/ClimateDT/raw/avg_so_ifs-nemo_20230616-20230630.grib', 'gfts-reference-data/ClimateDT/raw/avg_so_ifs-nemo_20240601-20240615.grib', 'gfts-reference-data/ClimateDT/raw/avg_so_ifs-nemo_20240616-20240630.grib', 'gfts-reference-data/ClimateDT/raw/avg_sos_ifs-nemo_20210601-20210615.grib', 'gfts-reference-data/ClimateDT/raw/avg_sos_ifs-nemo_20210616-20210630.grib', 'gfts-reference-data/ClimateDT/raw/avg_sos_ifs-nemo_20220601-20220615.grib', 'gfts-reference-data/ClimateDT/raw/avg_sos_ifs-nemo_20220616-20220630.grib', 'gfts-reference-data/ClimateDT/raw/avg_sos_ifs-nemo_20230601-20230615.grib', 'gfts-reference-data/ClimateDT/raw/avg_sos_ifs-nemo_20230616-20230630.grib', 'gfts-reference-data/ClimateDT/raw/avg_sos_ifs-nemo_20240601-20240615.grib', 'gfts-reference-data/ClimateDT/raw/avg_sos_ifs-nemo_20240616-20240630.grib', 'gfts-reference-data/ClimateDT/raw/avg_thetao_ifs-nemo_20210601-20210615.grib', 'gfts-reference-data/ClimateDT/raw/avg_thetao_ifs-nemo_20210616-20210630.grib', 'gfts-reference-data/ClimateDT/raw/avg_thetao_ifs-nemo_20220601-20220615.grib', 'gfts-reference-data/ClimateDT/raw/avg_thetao_ifs-nemo_20220616-20220630.grib', 'gfts-reference-data/ClimateDT/raw/avg_thetao_ifs-nemo_20230601-20230615.grib', 'gfts-reference-data/ClimateDT/raw/avg_thetao_ifs-nemo_20230616-20230630.grib', 'gfts-reference-data/ClimateDT/raw/avg_thetao_ifs-nemo_20240601-20240615.grib', 'gfts-reference-data/ClimateDT/raw/avg_thetao_ifs-nemo_20240616-20240630.grib', 'gfts-reference-data/ClimateDT/raw/avg_uoe_ifs-nemo_20210601-20210615.grib', 'gfts-reference-data/ClimateDT/raw/avg_uoe_ifs-nemo_20210616-20210630.grib', 'gfts-reference-data/ClimateDT/raw/avg_uoe_ifs-nemo_20220601-20220615.grib', 'gfts-reference-data/ClimateDT/raw/avg_uoe_ifs-nemo_20220616-20220630.grib', 'gfts-reference-data/ClimateDT/raw/avg_uoe_ifs-nemo_20230601-20230615.grib', 'gfts-reference-data/ClimateDT/raw/avg_uoe_ifs-nemo_20230616-20230630.grib', 'gfts-reference-data/ClimateDT/raw/avg_uoe_ifs-nemo_20240601-20240615.grib', 'gfts-reference-data/ClimateDT/raw/avg_uoe_ifs-nemo_20240616-20240630.grib', 'gfts-reference-data/ClimateDT/raw/avg_von_ifs-nemo_20210601-20210615.grib', 'gfts-reference-data/ClimateDT/raw/avg_von_ifs-nemo_20210616-20210630.grib', 'gfts-reference-data/ClimateDT/raw/avg_von_ifs-nemo_20220601-20220615.grib', 'gfts-reference-data/ClimateDT/raw/avg_von_ifs-nemo_20220616-20220630.grib', 'gfts-reference-data/ClimateDT/raw/avg_von_ifs-nemo_20230601-20230615.grib', 'gfts-reference-data/ClimateDT/raw/avg_von_ifs-nemo_20230616-20230630.grib', 'gfts-reference-data/ClimateDT/raw/avg_von_ifs-nemo_20240601-20240615.grib', 'gfts-reference-data/ClimateDT/raw/avg_von_ifs-nemo_20240616-20240630.grib', 'gfts-reference-data/ClimateDT/raw/avg_wo_ifs-nemo_20210601-20210615.grib', 'gfts-reference-data/ClimateDT/raw/avg_wo_ifs-nemo_20210616-20210630.grib', 'gfts-reference-data/ClimateDT/raw/avg_wo_ifs-nemo_20220601-20220615.grib', 'gfts-reference-data/ClimateDT/raw/avg_wo_ifs-nemo_20220616-20220630.grib', 'gfts-reference-data/ClimateDT/raw/avg_wo_ifs-nemo_20230601-20230615.grib', 'gfts-reference-data/ClimateDT/raw/avg_wo_ifs-nemo_20230616-20230630.grib', 'gfts-reference-data/ClimateDT/raw/avg_wo_ifs-nemo_20240601-20240615.grib', 'gfts-reference-data/ClimateDT/raw/avg_wo_ifs-nemo_20240616-20240630.grib']\n",
      "2D :  ['gfts-reference-data/ClimateDT/raw/avg_hc300m_ifs-nemo_20210601-20210615.grib', 'gfts-reference-data/ClimateDT/raw/avg_hc300m_ifs-nemo_20210601-20210615.grib', 'gfts-reference-data/ClimateDT/raw/avg_hc300m_ifs-nemo_20210601-20210615.grib', 'gfts-reference-data/ClimateDT/raw/avg_hc300m_ifs-nemo_20210601-20210615.grib', 'gfts-reference-data/ClimateDT/raw/avg_hc300m_ifs-nemo_20210601-20210615.grib', 'gfts-reference-data/ClimateDT/raw/avg_hc300m_ifs-nemo_20210616-20210630.grib', 'gfts-reference-data/ClimateDT/raw/avg_hc300m_ifs-nemo_20210616-20210630.grib', 'gfts-reference-data/ClimateDT/raw/avg_hc300m_ifs-nemo_20210616-20210630.grib', 'gfts-reference-data/ClimateDT/raw/avg_hc300m_ifs-nemo_20210616-20210630.grib', 'gfts-reference-data/ClimateDT/raw/avg_hc300m_ifs-nemo_20210616-20210630.grib', 'gfts-reference-data/ClimateDT/raw/avg_hc300m_ifs-nemo_20220601-20220615.grib', 'gfts-reference-data/ClimateDT/raw/avg_hc300m_ifs-nemo_20220601-20220615.grib', 'gfts-reference-data/ClimateDT/raw/avg_hc300m_ifs-nemo_20220601-20220615.grib', 'gfts-reference-data/ClimateDT/raw/avg_hc300m_ifs-nemo_20220601-20220615.grib', 'gfts-reference-data/ClimateDT/raw/avg_hc300m_ifs-nemo_20220601-20220615.grib', 'gfts-reference-data/ClimateDT/raw/avg_hc300m_ifs-nemo_20220616-20220630.grib', 'gfts-reference-data/ClimateDT/raw/avg_hc300m_ifs-nemo_20220616-20220630.grib', 'gfts-reference-data/ClimateDT/raw/avg_hc300m_ifs-nemo_20220616-20220630.grib', 'gfts-reference-data/ClimateDT/raw/avg_hc300m_ifs-nemo_20220616-20220630.grib', 'gfts-reference-data/ClimateDT/raw/avg_hc300m_ifs-nemo_20220616-20220630.grib', 'gfts-reference-data/ClimateDT/raw/avg_hc300m_ifs-nemo_20230601-20230615.grib', 'gfts-reference-data/ClimateDT/raw/avg_hc300m_ifs-nemo_20230601-20230615.grib', 'gfts-reference-data/ClimateDT/raw/avg_hc300m_ifs-nemo_20230601-20230615.grib', 'gfts-reference-data/ClimateDT/raw/avg_hc300m_ifs-nemo_20230601-20230615.grib', 'gfts-reference-data/ClimateDT/raw/avg_hc300m_ifs-nemo_20230601-20230615.grib', 'gfts-reference-data/ClimateDT/raw/avg_hc300m_ifs-nemo_20230616-20230630.grib', 'gfts-reference-data/ClimateDT/raw/avg_hc300m_ifs-nemo_20230616-20230630.grib', 'gfts-reference-data/ClimateDT/raw/avg_hc300m_ifs-nemo_20230616-20230630.grib', 'gfts-reference-data/ClimateDT/raw/avg_hc300m_ifs-nemo_20230616-20230630.grib', 'gfts-reference-data/ClimateDT/raw/avg_hc300m_ifs-nemo_20230616-20230630.grib', 'gfts-reference-data/ClimateDT/raw/avg_hc300m_ifs-nemo_20240601-20240615.grib', 'gfts-reference-data/ClimateDT/raw/avg_hc300m_ifs-nemo_20240601-20240615.grib', 'gfts-reference-data/ClimateDT/raw/avg_hc300m_ifs-nemo_20240601-20240615.grib', 'gfts-reference-data/ClimateDT/raw/avg_hc300m_ifs-nemo_20240601-20240615.grib', 'gfts-reference-data/ClimateDT/raw/avg_hc300m_ifs-nemo_20240601-20240615.grib', 'gfts-reference-data/ClimateDT/raw/avg_hc300m_ifs-nemo_20240616-20240630.grib', 'gfts-reference-data/ClimateDT/raw/avg_hc300m_ifs-nemo_20240616-20240630.grib', 'gfts-reference-data/ClimateDT/raw/avg_hc300m_ifs-nemo_20240616-20240630.grib', 'gfts-reference-data/ClimateDT/raw/avg_hc300m_ifs-nemo_20240616-20240630.grib', 'gfts-reference-data/ClimateDT/raw/avg_hc300m_ifs-nemo_20240616-20240630.grib', 'gfts-reference-data/ClimateDT/raw/avg_hc700m_ifs-nemo_20210601-20210615.grib', 'gfts-reference-data/ClimateDT/raw/avg_hc700m_ifs-nemo_20210601-20210615.grib', 'gfts-reference-data/ClimateDT/raw/avg_hc700m_ifs-nemo_20210601-20210615.grib', 'gfts-reference-data/ClimateDT/raw/avg_hc700m_ifs-nemo_20210601-20210615.grib', 'gfts-reference-data/ClimateDT/raw/avg_hc700m_ifs-nemo_20210601-20210615.grib', 'gfts-reference-data/ClimateDT/raw/avg_hc700m_ifs-nemo_20210616-20210630.grib', 'gfts-reference-data/ClimateDT/raw/avg_hc700m_ifs-nemo_20210616-20210630.grib', 'gfts-reference-data/ClimateDT/raw/avg_hc700m_ifs-nemo_20210616-20210630.grib', 'gfts-reference-data/ClimateDT/raw/avg_hc700m_ifs-nemo_20210616-20210630.grib', 'gfts-reference-data/ClimateDT/raw/avg_hc700m_ifs-nemo_20210616-20210630.grib', 'gfts-reference-data/ClimateDT/raw/avg_hc700m_ifs-nemo_20220601-20220615.grib', 'gfts-reference-data/ClimateDT/raw/avg_hc700m_ifs-nemo_20220601-20220615.grib', 'gfts-reference-data/ClimateDT/raw/avg_hc700m_ifs-nemo_20220601-20220615.grib', 'gfts-reference-data/ClimateDT/raw/avg_hc700m_ifs-nemo_20220601-20220615.grib', 'gfts-reference-data/ClimateDT/raw/avg_hc700m_ifs-nemo_20220601-20220615.grib', 'gfts-reference-data/ClimateDT/raw/avg_hc700m_ifs-nemo_20220616-20220630.grib', 'gfts-reference-data/ClimateDT/raw/avg_hc700m_ifs-nemo_20220616-20220630.grib', 'gfts-reference-data/ClimateDT/raw/avg_hc700m_ifs-nemo_20220616-20220630.grib', 'gfts-reference-data/ClimateDT/raw/avg_hc700m_ifs-nemo_20220616-20220630.grib', 'gfts-reference-data/ClimateDT/raw/avg_hc700m_ifs-nemo_20220616-20220630.grib', 'gfts-reference-data/ClimateDT/raw/avg_hc700m_ifs-nemo_20230601-20230615.grib', 'gfts-reference-data/ClimateDT/raw/avg_hc700m_ifs-nemo_20230601-20230615.grib', 'gfts-reference-data/ClimateDT/raw/avg_hc700m_ifs-nemo_20230601-20230615.grib', 'gfts-reference-data/ClimateDT/raw/avg_hc700m_ifs-nemo_20230601-20230615.grib', 'gfts-reference-data/ClimateDT/raw/avg_hc700m_ifs-nemo_20230601-20230615.grib', 'gfts-reference-data/ClimateDT/raw/avg_hc700m_ifs-nemo_20230616-20230630.grib', 'gfts-reference-data/ClimateDT/raw/avg_hc700m_ifs-nemo_20230616-20230630.grib', 'gfts-reference-data/ClimateDT/raw/avg_hc700m_ifs-nemo_20230616-20230630.grib', 'gfts-reference-data/ClimateDT/raw/avg_hc700m_ifs-nemo_20230616-20230630.grib', 'gfts-reference-data/ClimateDT/raw/avg_hc700m_ifs-nemo_20230616-20230630.grib', 'gfts-reference-data/ClimateDT/raw/avg_hc700m_ifs-nemo_20240601-20240615.grib', 'gfts-reference-data/ClimateDT/raw/avg_hc700m_ifs-nemo_20240601-20240615.grib', 'gfts-reference-data/ClimateDT/raw/avg_hc700m_ifs-nemo_20240601-20240615.grib', 'gfts-reference-data/ClimateDT/raw/avg_hc700m_ifs-nemo_20240601-20240615.grib', 'gfts-reference-data/ClimateDT/raw/avg_hc700m_ifs-nemo_20240601-20240615.grib', 'gfts-reference-data/ClimateDT/raw/avg_hc700m_ifs-nemo_20240616-20240630.grib', 'gfts-reference-data/ClimateDT/raw/avg_hc700m_ifs-nemo_20240616-20240630.grib', 'gfts-reference-data/ClimateDT/raw/avg_hc700m_ifs-nemo_20240616-20240630.grib', 'gfts-reference-data/ClimateDT/raw/avg_hc700m_ifs-nemo_20240616-20240630.grib', 'gfts-reference-data/ClimateDT/raw/avg_hc700m_ifs-nemo_20240616-20240630.grib', 'gfts-reference-data/ClimateDT/raw/avg_so_ifs-nemo_20210601-20210615.grib', 'gfts-reference-data/ClimateDT/raw/avg_so_ifs-nemo_20210601-20210615.grib', 'gfts-reference-data/ClimateDT/raw/avg_so_ifs-nemo_20210601-20210615.grib', 'gfts-reference-data/ClimateDT/raw/avg_so_ifs-nemo_20210601-20210615.grib', 'gfts-reference-data/ClimateDT/raw/avg_so_ifs-nemo_20210616-20210630.grib', 'gfts-reference-data/ClimateDT/raw/avg_so_ifs-nemo_20210616-20210630.grib', 'gfts-reference-data/ClimateDT/raw/avg_so_ifs-nemo_20210616-20210630.grib', 'gfts-reference-data/ClimateDT/raw/avg_so_ifs-nemo_20210616-20210630.grib', 'gfts-reference-data/ClimateDT/raw/avg_so_ifs-nemo_20220601-20220615.grib', 'gfts-reference-data/ClimateDT/raw/avg_so_ifs-nemo_20220601-20220615.grib', 'gfts-reference-data/ClimateDT/raw/avg_so_ifs-nemo_20220601-20220615.grib', 'gfts-reference-data/ClimateDT/raw/avg_so_ifs-nemo_20220601-20220615.grib', 'gfts-reference-data/ClimateDT/raw/avg_so_ifs-nemo_20220616-20220630.grib', 'gfts-reference-data/ClimateDT/raw/avg_so_ifs-nemo_20220616-20220630.grib', 'gfts-reference-data/ClimateDT/raw/avg_so_ifs-nemo_20220616-20220630.grib', 'gfts-reference-data/ClimateDT/raw/avg_so_ifs-nemo_20220616-20220630.grib', 'gfts-reference-data/ClimateDT/raw/avg_so_ifs-nemo_20230601-20230615.grib', 'gfts-reference-data/ClimateDT/raw/avg_so_ifs-nemo_20230601-20230615.grib', 'gfts-reference-data/ClimateDT/raw/avg_so_ifs-nemo_20230601-20230615.grib', 'gfts-reference-data/ClimateDT/raw/avg_so_ifs-nemo_20230601-20230615.grib', 'gfts-reference-data/ClimateDT/raw/avg_so_ifs-nemo_20230616-20230630.grib', 'gfts-reference-data/ClimateDT/raw/avg_so_ifs-nemo_20230616-20230630.grib', 'gfts-reference-data/ClimateDT/raw/avg_so_ifs-nemo_20230616-20230630.grib', 'gfts-reference-data/ClimateDT/raw/avg_so_ifs-nemo_20230616-20230630.grib', 'gfts-reference-data/ClimateDT/raw/avg_so_ifs-nemo_20240601-20240615.grib', 'gfts-reference-data/ClimateDT/raw/avg_so_ifs-nemo_20240601-20240615.grib', 'gfts-reference-data/ClimateDT/raw/avg_so_ifs-nemo_20240601-20240615.grib', 'gfts-reference-data/ClimateDT/raw/avg_so_ifs-nemo_20240601-20240615.grib', 'gfts-reference-data/ClimateDT/raw/avg_so_ifs-nemo_20240616-20240630.grib', 'gfts-reference-data/ClimateDT/raw/avg_so_ifs-nemo_20240616-20240630.grib', 'gfts-reference-data/ClimateDT/raw/avg_so_ifs-nemo_20240616-20240630.grib', 'gfts-reference-data/ClimateDT/raw/avg_so_ifs-nemo_20240616-20240630.grib', 'gfts-reference-data/ClimateDT/raw/avg_sos_ifs-nemo_20210601-20210615.grib', 'gfts-reference-data/ClimateDT/raw/avg_sos_ifs-nemo_20210601-20210615.grib', 'gfts-reference-data/ClimateDT/raw/avg_sos_ifs-nemo_20210601-20210615.grib', 'gfts-reference-data/ClimateDT/raw/avg_sos_ifs-nemo_20210601-20210615.grib', 'gfts-reference-data/ClimateDT/raw/avg_sos_ifs-nemo_20210616-20210630.grib', 'gfts-reference-data/ClimateDT/raw/avg_sos_ifs-nemo_20210616-20210630.grib', 'gfts-reference-data/ClimateDT/raw/avg_sos_ifs-nemo_20210616-20210630.grib', 'gfts-reference-data/ClimateDT/raw/avg_sos_ifs-nemo_20210616-20210630.grib', 'gfts-reference-data/ClimateDT/raw/avg_sos_ifs-nemo_20220601-20220615.grib', 'gfts-reference-data/ClimateDT/raw/avg_sos_ifs-nemo_20220601-20220615.grib', 'gfts-reference-data/ClimateDT/raw/avg_sos_ifs-nemo_20220601-20220615.grib', 'gfts-reference-data/ClimateDT/raw/avg_sos_ifs-nemo_20220601-20220615.grib', 'gfts-reference-data/ClimateDT/raw/avg_sos_ifs-nemo_20220616-20220630.grib', 'gfts-reference-data/ClimateDT/raw/avg_sos_ifs-nemo_20220616-20220630.grib', 'gfts-reference-data/ClimateDT/raw/avg_sos_ifs-nemo_20220616-20220630.grib', 'gfts-reference-data/ClimateDT/raw/avg_sos_ifs-nemo_20220616-20220630.grib', 'gfts-reference-data/ClimateDT/raw/avg_sos_ifs-nemo_20230601-20230615.grib', 'gfts-reference-data/ClimateDT/raw/avg_sos_ifs-nemo_20230601-20230615.grib', 'gfts-reference-data/ClimateDT/raw/avg_sos_ifs-nemo_20230601-20230615.grib', 'gfts-reference-data/ClimateDT/raw/avg_sos_ifs-nemo_20230601-20230615.grib', 'gfts-reference-data/ClimateDT/raw/avg_sos_ifs-nemo_20230616-20230630.grib', 'gfts-reference-data/ClimateDT/raw/avg_sos_ifs-nemo_20230616-20230630.grib', 'gfts-reference-data/ClimateDT/raw/avg_sos_ifs-nemo_20230616-20230630.grib', 'gfts-reference-data/ClimateDT/raw/avg_sos_ifs-nemo_20230616-20230630.grib', 'gfts-reference-data/ClimateDT/raw/avg_sos_ifs-nemo_20240601-20240615.grib', 'gfts-reference-data/ClimateDT/raw/avg_sos_ifs-nemo_20240601-20240615.grib', 'gfts-reference-data/ClimateDT/raw/avg_sos_ifs-nemo_20240601-20240615.grib', 'gfts-reference-data/ClimateDT/raw/avg_sos_ifs-nemo_20240601-20240615.grib', 'gfts-reference-data/ClimateDT/raw/avg_sos_ifs-nemo_20240616-20240630.grib', 'gfts-reference-data/ClimateDT/raw/avg_sos_ifs-nemo_20240616-20240630.grib', 'gfts-reference-data/ClimateDT/raw/avg_sos_ifs-nemo_20240616-20240630.grib', 'gfts-reference-data/ClimateDT/raw/avg_sos_ifs-nemo_20240616-20240630.grib', 'gfts-reference-data/ClimateDT/raw/avg_thetao_ifs-nemo_20210601-20210615.grib', 'gfts-reference-data/ClimateDT/raw/avg_thetao_ifs-nemo_20210601-20210615.grib', 'gfts-reference-data/ClimateDT/raw/avg_thetao_ifs-nemo_20210601-20210615.grib', 'gfts-reference-data/ClimateDT/raw/avg_thetao_ifs-nemo_20210601-20210615.grib', 'gfts-reference-data/ClimateDT/raw/avg_thetao_ifs-nemo_20210616-20210630.grib', 'gfts-reference-data/ClimateDT/raw/avg_thetao_ifs-nemo_20210616-20210630.grib', 'gfts-reference-data/ClimateDT/raw/avg_thetao_ifs-nemo_20210616-20210630.grib', 'gfts-reference-data/ClimateDT/raw/avg_thetao_ifs-nemo_20210616-20210630.grib', 'gfts-reference-data/ClimateDT/raw/avg_thetao_ifs-nemo_20220601-20220615.grib', 'gfts-reference-data/ClimateDT/raw/avg_thetao_ifs-nemo_20220601-20220615.grib', 'gfts-reference-data/ClimateDT/raw/avg_thetao_ifs-nemo_20220601-20220615.grib', 'gfts-reference-data/ClimateDT/raw/avg_thetao_ifs-nemo_20220601-20220615.grib', 'gfts-reference-data/ClimateDT/raw/avg_thetao_ifs-nemo_20220616-20220630.grib', 'gfts-reference-data/ClimateDT/raw/avg_thetao_ifs-nemo_20220616-20220630.grib', 'gfts-reference-data/ClimateDT/raw/avg_thetao_ifs-nemo_20220616-20220630.grib', 'gfts-reference-data/ClimateDT/raw/avg_thetao_ifs-nemo_20220616-20220630.grib', 'gfts-reference-data/ClimateDT/raw/avg_thetao_ifs-nemo_20230601-20230615.grib', 'gfts-reference-data/ClimateDT/raw/avg_thetao_ifs-nemo_20230601-20230615.grib', 'gfts-reference-data/ClimateDT/raw/avg_thetao_ifs-nemo_20230601-20230615.grib', 'gfts-reference-data/ClimateDT/raw/avg_thetao_ifs-nemo_20230601-20230615.grib', 'gfts-reference-data/ClimateDT/raw/avg_thetao_ifs-nemo_20230616-20230630.grib', 'gfts-reference-data/ClimateDT/raw/avg_thetao_ifs-nemo_20230616-20230630.grib', 'gfts-reference-data/ClimateDT/raw/avg_thetao_ifs-nemo_20230616-20230630.grib', 'gfts-reference-data/ClimateDT/raw/avg_thetao_ifs-nemo_20230616-20230630.grib', 'gfts-reference-data/ClimateDT/raw/avg_thetao_ifs-nemo_20240601-20240615.grib', 'gfts-reference-data/ClimateDT/raw/avg_thetao_ifs-nemo_20240601-20240615.grib', 'gfts-reference-data/ClimateDT/raw/avg_thetao_ifs-nemo_20240601-20240615.grib', 'gfts-reference-data/ClimateDT/raw/avg_thetao_ifs-nemo_20240601-20240615.grib', 'gfts-reference-data/ClimateDT/raw/avg_thetao_ifs-nemo_20240616-20240630.grib', 'gfts-reference-data/ClimateDT/raw/avg_thetao_ifs-nemo_20240616-20240630.grib', 'gfts-reference-data/ClimateDT/raw/avg_thetao_ifs-nemo_20240616-20240630.grib', 'gfts-reference-data/ClimateDT/raw/avg_thetao_ifs-nemo_20240616-20240630.grib', 'gfts-reference-data/ClimateDT/raw/avg_tos_ifs-nemo_20210601-20210615.grib', 'gfts-reference-data/ClimateDT/raw/avg_tos_ifs-nemo_20210601-20210615.grib', 'gfts-reference-data/ClimateDT/raw/avg_tos_ifs-nemo_20210601-20210615.grib', 'gfts-reference-data/ClimateDT/raw/avg_tos_ifs-nemo_20210601-20210615.grib', 'gfts-reference-data/ClimateDT/raw/avg_tos_ifs-nemo_20210601-20210615.grib', 'gfts-reference-data/ClimateDT/raw/avg_tos_ifs-nemo_20210616-20210630.grib', 'gfts-reference-data/ClimateDT/raw/avg_tos_ifs-nemo_20210616-20210630.grib', 'gfts-reference-data/ClimateDT/raw/avg_tos_ifs-nemo_20210616-20210630.grib', 'gfts-reference-data/ClimateDT/raw/avg_tos_ifs-nemo_20210616-20210630.grib', 'gfts-reference-data/ClimateDT/raw/avg_tos_ifs-nemo_20210616-20210630.grib', 'gfts-reference-data/ClimateDT/raw/avg_tos_ifs-nemo_20220601-20220615.grib', 'gfts-reference-data/ClimateDT/raw/avg_tos_ifs-nemo_20220601-20220615.grib', 'gfts-reference-data/ClimateDT/raw/avg_tos_ifs-nemo_20220601-20220615.grib', 'gfts-reference-data/ClimateDT/raw/avg_tos_ifs-nemo_20220601-20220615.grib', 'gfts-reference-data/ClimateDT/raw/avg_tos_ifs-nemo_20220601-20220615.grib', 'gfts-reference-data/ClimateDT/raw/avg_tos_ifs-nemo_20220616-20220630.grib', 'gfts-reference-data/ClimateDT/raw/avg_tos_ifs-nemo_20220616-20220630.grib', 'gfts-reference-data/ClimateDT/raw/avg_tos_ifs-nemo_20220616-20220630.grib', 'gfts-reference-data/ClimateDT/raw/avg_tos_ifs-nemo_20220616-20220630.grib', 'gfts-reference-data/ClimateDT/raw/avg_tos_ifs-nemo_20220616-20220630.grib', 'gfts-reference-data/ClimateDT/raw/avg_tos_ifs-nemo_20230601-20230615.grib', 'gfts-reference-data/ClimateDT/raw/avg_tos_ifs-nemo_20230601-20230615.grib', 'gfts-reference-data/ClimateDT/raw/avg_tos_ifs-nemo_20230601-20230615.grib', 'gfts-reference-data/ClimateDT/raw/avg_tos_ifs-nemo_20230601-20230615.grib', 'gfts-reference-data/ClimateDT/raw/avg_tos_ifs-nemo_20230601-20230615.grib', 'gfts-reference-data/ClimateDT/raw/avg_tos_ifs-nemo_20230616-20230630.grib', 'gfts-reference-data/ClimateDT/raw/avg_tos_ifs-nemo_20230616-20230630.grib', 'gfts-reference-data/ClimateDT/raw/avg_tos_ifs-nemo_20230616-20230630.grib', 'gfts-reference-data/ClimateDT/raw/avg_tos_ifs-nemo_20230616-20230630.grib', 'gfts-reference-data/ClimateDT/raw/avg_tos_ifs-nemo_20230616-20230630.grib', 'gfts-reference-data/ClimateDT/raw/avg_tos_ifs-nemo_20240601-20240615.grib', 'gfts-reference-data/ClimateDT/raw/avg_tos_ifs-nemo_20240601-20240615.grib', 'gfts-reference-data/ClimateDT/raw/avg_tos_ifs-nemo_20240601-20240615.grib', 'gfts-reference-data/ClimateDT/raw/avg_tos_ifs-nemo_20240601-20240615.grib', 'gfts-reference-data/ClimateDT/raw/avg_tos_ifs-nemo_20240601-20240615.grib', 'gfts-reference-data/ClimateDT/raw/avg_tos_ifs-nemo_20240616-20240630.grib', 'gfts-reference-data/ClimateDT/raw/avg_tos_ifs-nemo_20240616-20240630.grib', 'gfts-reference-data/ClimateDT/raw/avg_tos_ifs-nemo_20240616-20240630.grib', 'gfts-reference-data/ClimateDT/raw/avg_tos_ifs-nemo_20240616-20240630.grib', 'gfts-reference-data/ClimateDT/raw/avg_tos_ifs-nemo_20240616-20240630.grib', 'gfts-reference-data/ClimateDT/raw/avg_uoe_ifs-nemo_20210601-20210615.grib', 'gfts-reference-data/ClimateDT/raw/avg_uoe_ifs-nemo_20210601-20210615.grib', 'gfts-reference-data/ClimateDT/raw/avg_uoe_ifs-nemo_20210601-20210615.grib', 'gfts-reference-data/ClimateDT/raw/avg_uoe_ifs-nemo_20210601-20210615.grib', 'gfts-reference-data/ClimateDT/raw/avg_uoe_ifs-nemo_20210616-20210630.grib', 'gfts-reference-data/ClimateDT/raw/avg_uoe_ifs-nemo_20210616-20210630.grib', 'gfts-reference-data/ClimateDT/raw/avg_uoe_ifs-nemo_20210616-20210630.grib', 'gfts-reference-data/ClimateDT/raw/avg_uoe_ifs-nemo_20210616-20210630.grib', 'gfts-reference-data/ClimateDT/raw/avg_uoe_ifs-nemo_20220601-20220615.grib', 'gfts-reference-data/ClimateDT/raw/avg_uoe_ifs-nemo_20220601-20220615.grib', 'gfts-reference-data/ClimateDT/raw/avg_uoe_ifs-nemo_20220601-20220615.grib', 'gfts-reference-data/ClimateDT/raw/avg_uoe_ifs-nemo_20220601-20220615.grib', 'gfts-reference-data/ClimateDT/raw/avg_uoe_ifs-nemo_20220616-20220630.grib', 'gfts-reference-data/ClimateDT/raw/avg_uoe_ifs-nemo_20220616-20220630.grib', 'gfts-reference-data/ClimateDT/raw/avg_uoe_ifs-nemo_20220616-20220630.grib', 'gfts-reference-data/ClimateDT/raw/avg_uoe_ifs-nemo_20220616-20220630.grib', 'gfts-reference-data/ClimateDT/raw/avg_uoe_ifs-nemo_20230601-20230615.grib', 'gfts-reference-data/ClimateDT/raw/avg_uoe_ifs-nemo_20230601-20230615.grib', 'gfts-reference-data/ClimateDT/raw/avg_uoe_ifs-nemo_20230601-20230615.grib', 'gfts-reference-data/ClimateDT/raw/avg_uoe_ifs-nemo_20230601-20230615.grib', 'gfts-reference-data/ClimateDT/raw/avg_uoe_ifs-nemo_20230616-20230630.grib', 'gfts-reference-data/ClimateDT/raw/avg_uoe_ifs-nemo_20230616-20230630.grib', 'gfts-reference-data/ClimateDT/raw/avg_uoe_ifs-nemo_20230616-20230630.grib', 'gfts-reference-data/ClimateDT/raw/avg_uoe_ifs-nemo_20230616-20230630.grib', 'gfts-reference-data/ClimateDT/raw/avg_uoe_ifs-nemo_20240601-20240615.grib', 'gfts-reference-data/ClimateDT/raw/avg_uoe_ifs-nemo_20240601-20240615.grib', 'gfts-reference-data/ClimateDT/raw/avg_uoe_ifs-nemo_20240601-20240615.grib', 'gfts-reference-data/ClimateDT/raw/avg_uoe_ifs-nemo_20240601-20240615.grib', 'gfts-reference-data/ClimateDT/raw/avg_uoe_ifs-nemo_20240616-20240630.grib', 'gfts-reference-data/ClimateDT/raw/avg_uoe_ifs-nemo_20240616-20240630.grib', 'gfts-reference-data/ClimateDT/raw/avg_uoe_ifs-nemo_20240616-20240630.grib', 'gfts-reference-data/ClimateDT/raw/avg_uoe_ifs-nemo_20240616-20240630.grib', 'gfts-reference-data/ClimateDT/raw/avg_von_ifs-nemo_20210601-20210615.grib', 'gfts-reference-data/ClimateDT/raw/avg_von_ifs-nemo_20210601-20210615.grib', 'gfts-reference-data/ClimateDT/raw/avg_von_ifs-nemo_20210601-20210615.grib', 'gfts-reference-data/ClimateDT/raw/avg_von_ifs-nemo_20210601-20210615.grib', 'gfts-reference-data/ClimateDT/raw/avg_von_ifs-nemo_20210616-20210630.grib', 'gfts-reference-data/ClimateDT/raw/avg_von_ifs-nemo_20210616-20210630.grib', 'gfts-reference-data/ClimateDT/raw/avg_von_ifs-nemo_20210616-20210630.grib', 'gfts-reference-data/ClimateDT/raw/avg_von_ifs-nemo_20210616-20210630.grib', 'gfts-reference-data/ClimateDT/raw/avg_von_ifs-nemo_20220601-20220615.grib', 'gfts-reference-data/ClimateDT/raw/avg_von_ifs-nemo_20220601-20220615.grib', 'gfts-reference-data/ClimateDT/raw/avg_von_ifs-nemo_20220601-20220615.grib', 'gfts-reference-data/ClimateDT/raw/avg_von_ifs-nemo_20220601-20220615.grib', 'gfts-reference-data/ClimateDT/raw/avg_von_ifs-nemo_20220616-20220630.grib', 'gfts-reference-data/ClimateDT/raw/avg_von_ifs-nemo_20220616-20220630.grib', 'gfts-reference-data/ClimateDT/raw/avg_von_ifs-nemo_20220616-20220630.grib', 'gfts-reference-data/ClimateDT/raw/avg_von_ifs-nemo_20220616-20220630.grib', 'gfts-reference-data/ClimateDT/raw/avg_von_ifs-nemo_20230601-20230615.grib', 'gfts-reference-data/ClimateDT/raw/avg_von_ifs-nemo_20230601-20230615.grib', 'gfts-reference-data/ClimateDT/raw/avg_von_ifs-nemo_20230601-20230615.grib', 'gfts-reference-data/ClimateDT/raw/avg_von_ifs-nemo_20230601-20230615.grib', 'gfts-reference-data/ClimateDT/raw/avg_von_ifs-nemo_20230616-20230630.grib', 'gfts-reference-data/ClimateDT/raw/avg_von_ifs-nemo_20230616-20230630.grib', 'gfts-reference-data/ClimateDT/raw/avg_von_ifs-nemo_20230616-20230630.grib', 'gfts-reference-data/ClimateDT/raw/avg_von_ifs-nemo_20230616-20230630.grib', 'gfts-reference-data/ClimateDT/raw/avg_von_ifs-nemo_20240601-20240615.grib', 'gfts-reference-data/ClimateDT/raw/avg_von_ifs-nemo_20240601-20240615.grib', 'gfts-reference-data/ClimateDT/raw/avg_von_ifs-nemo_20240601-20240615.grib', 'gfts-reference-data/ClimateDT/raw/avg_von_ifs-nemo_20240601-20240615.grib', 'gfts-reference-data/ClimateDT/raw/avg_von_ifs-nemo_20240616-20240630.grib', 'gfts-reference-data/ClimateDT/raw/avg_von_ifs-nemo_20240616-20240630.grib', 'gfts-reference-data/ClimateDT/raw/avg_von_ifs-nemo_20240616-20240630.grib', 'gfts-reference-data/ClimateDT/raw/avg_von_ifs-nemo_20240616-20240630.grib', 'gfts-reference-data/ClimateDT/raw/avg_wo_ifs-nemo_20210601-20210615.grib', 'gfts-reference-data/ClimateDT/raw/avg_wo_ifs-nemo_20210601-20210615.grib', 'gfts-reference-data/ClimateDT/raw/avg_wo_ifs-nemo_20210601-20210615.grib', 'gfts-reference-data/ClimateDT/raw/avg_wo_ifs-nemo_20210601-20210615.grib', 'gfts-reference-data/ClimateDT/raw/avg_wo_ifs-nemo_20210616-20210630.grib', 'gfts-reference-data/ClimateDT/raw/avg_wo_ifs-nemo_20210616-20210630.grib', 'gfts-reference-data/ClimateDT/raw/avg_wo_ifs-nemo_20210616-20210630.grib', 'gfts-reference-data/ClimateDT/raw/avg_wo_ifs-nemo_20210616-20210630.grib', 'gfts-reference-data/ClimateDT/raw/avg_wo_ifs-nemo_20220601-20220615.grib', 'gfts-reference-data/ClimateDT/raw/avg_wo_ifs-nemo_20220601-20220615.grib', 'gfts-reference-data/ClimateDT/raw/avg_wo_ifs-nemo_20220601-20220615.grib', 'gfts-reference-data/ClimateDT/raw/avg_wo_ifs-nemo_20220601-20220615.grib', 'gfts-reference-data/ClimateDT/raw/avg_wo_ifs-nemo_20220616-20220630.grib', 'gfts-reference-data/ClimateDT/raw/avg_wo_ifs-nemo_20220616-20220630.grib', 'gfts-reference-data/ClimateDT/raw/avg_wo_ifs-nemo_20220616-20220630.grib', 'gfts-reference-data/ClimateDT/raw/avg_wo_ifs-nemo_20220616-20220630.grib', 'gfts-reference-data/ClimateDT/raw/avg_wo_ifs-nemo_20230601-20230615.grib', 'gfts-reference-data/ClimateDT/raw/avg_wo_ifs-nemo_20230601-20230615.grib', 'gfts-reference-data/ClimateDT/raw/avg_wo_ifs-nemo_20230601-20230615.grib', 'gfts-reference-data/ClimateDT/raw/avg_wo_ifs-nemo_20230601-20230615.grib', 'gfts-reference-data/ClimateDT/raw/avg_wo_ifs-nemo_20230616-20230630.grib', 'gfts-reference-data/ClimateDT/raw/avg_wo_ifs-nemo_20230616-20230630.grib', 'gfts-reference-data/ClimateDT/raw/avg_wo_ifs-nemo_20230616-20230630.grib', 'gfts-reference-data/ClimateDT/raw/avg_wo_ifs-nemo_20230616-20230630.grib', 'gfts-reference-data/ClimateDT/raw/avg_wo_ifs-nemo_20240601-20240615.grib', 'gfts-reference-data/ClimateDT/raw/avg_wo_ifs-nemo_20240601-20240615.grib', 'gfts-reference-data/ClimateDT/raw/avg_wo_ifs-nemo_20240601-20240615.grib', 'gfts-reference-data/ClimateDT/raw/avg_wo_ifs-nemo_20240601-20240615.grib', 'gfts-reference-data/ClimateDT/raw/avg_wo_ifs-nemo_20240616-20240630.grib', 'gfts-reference-data/ClimateDT/raw/avg_wo_ifs-nemo_20240616-20240630.grib', 'gfts-reference-data/ClimateDT/raw/avg_wo_ifs-nemo_20240616-20240630.grib', 'gfts-reference-data/ClimateDT/raw/avg_wo_ifs-nemo_20240616-20240630.grib', 'gfts-reference-data/ClimateDT/raw/avg_zos_ifs-nemo_20210601-20210615.grib', 'gfts-reference-data/ClimateDT/raw/avg_zos_ifs-nemo_20210601-20210615.grib', 'gfts-reference-data/ClimateDT/raw/avg_zos_ifs-nemo_20210601-20210615.grib', 'gfts-reference-data/ClimateDT/raw/avg_zos_ifs-nemo_20210601-20210615.grib', 'gfts-reference-data/ClimateDT/raw/avg_zos_ifs-nemo_20210601-20210615.grib', 'gfts-reference-data/ClimateDT/raw/avg_zos_ifs-nemo_20210616-20210630.grib', 'gfts-reference-data/ClimateDT/raw/avg_zos_ifs-nemo_20210616-20210630.grib', 'gfts-reference-data/ClimateDT/raw/avg_zos_ifs-nemo_20210616-20210630.grib', 'gfts-reference-data/ClimateDT/raw/avg_zos_ifs-nemo_20210616-20210630.grib', 'gfts-reference-data/ClimateDT/raw/avg_zos_ifs-nemo_20210616-20210630.grib', 'gfts-reference-data/ClimateDT/raw/avg_zos_ifs-nemo_20220601-20220615.grib', 'gfts-reference-data/ClimateDT/raw/avg_zos_ifs-nemo_20220601-20220615.grib', 'gfts-reference-data/ClimateDT/raw/avg_zos_ifs-nemo_20220601-20220615.grib', 'gfts-reference-data/ClimateDT/raw/avg_zos_ifs-nemo_20220601-20220615.grib', 'gfts-reference-data/ClimateDT/raw/avg_zos_ifs-nemo_20220601-20220615.grib', 'gfts-reference-data/ClimateDT/raw/avg_zos_ifs-nemo_20220616-20220630.grib', 'gfts-reference-data/ClimateDT/raw/avg_zos_ifs-nemo_20220616-20220630.grib', 'gfts-reference-data/ClimateDT/raw/avg_zos_ifs-nemo_20220616-20220630.grib', 'gfts-reference-data/ClimateDT/raw/avg_zos_ifs-nemo_20220616-20220630.grib', 'gfts-reference-data/ClimateDT/raw/avg_zos_ifs-nemo_20220616-20220630.grib', 'gfts-reference-data/ClimateDT/raw/avg_zos_ifs-nemo_20230601-20230615.grib', 'gfts-reference-data/ClimateDT/raw/avg_zos_ifs-nemo_20230601-20230615.grib', 'gfts-reference-data/ClimateDT/raw/avg_zos_ifs-nemo_20230601-20230615.grib', 'gfts-reference-data/ClimateDT/raw/avg_zos_ifs-nemo_20230601-20230615.grib', 'gfts-reference-data/ClimateDT/raw/avg_zos_ifs-nemo_20230601-20230615.grib', 'gfts-reference-data/ClimateDT/raw/avg_zos_ifs-nemo_20230616-20230630.grib', 'gfts-reference-data/ClimateDT/raw/avg_zos_ifs-nemo_20230616-20230630.grib', 'gfts-reference-data/ClimateDT/raw/avg_zos_ifs-nemo_20230616-20230630.grib', 'gfts-reference-data/ClimateDT/raw/avg_zos_ifs-nemo_20230616-20230630.grib', 'gfts-reference-data/ClimateDT/raw/avg_zos_ifs-nemo_20230616-20230630.grib', 'gfts-reference-data/ClimateDT/raw/avg_zos_ifs-nemo_20240601-20240615.grib', 'gfts-reference-data/ClimateDT/raw/avg_zos_ifs-nemo_20240601-20240615.grib', 'gfts-reference-data/ClimateDT/raw/avg_zos_ifs-nemo_20240601-20240615.grib', 'gfts-reference-data/ClimateDT/raw/avg_zos_ifs-nemo_20240601-20240615.grib', 'gfts-reference-data/ClimateDT/raw/avg_zos_ifs-nemo_20240601-20240615.grib', 'gfts-reference-data/ClimateDT/raw/avg_zos_ifs-nemo_20240616-20240630.grib', 'gfts-reference-data/ClimateDT/raw/avg_zos_ifs-nemo_20240616-20240630.grib', 'gfts-reference-data/ClimateDT/raw/avg_zos_ifs-nemo_20240616-20240630.grib', 'gfts-reference-data/ClimateDT/raw/avg_zos_ifs-nemo_20240616-20240630.grib', 'gfts-reference-data/ClimateDT/raw/avg_zos_ifs-nemo_20240616-20240630.grib', 'gfts-reference-data/ClimateDT/raw/slhf_ifs-nemo_20210601-20210615.grib', 'gfts-reference-data/ClimateDT/raw/slhf_ifs-nemo_20210601-20210615.grib', 'gfts-reference-data/ClimateDT/raw/slhf_ifs-nemo_20210601-20210615.grib', 'gfts-reference-data/ClimateDT/raw/slhf_ifs-nemo_20210601-20210615.grib', 'gfts-reference-data/ClimateDT/raw/slhf_ifs-nemo_20210601-20210615.grib', 'gfts-reference-data/ClimateDT/raw/slhf_ifs-nemo_20210616-20210630.grib', 'gfts-reference-data/ClimateDT/raw/slhf_ifs-nemo_20210616-20210630.grib', 'gfts-reference-data/ClimateDT/raw/slhf_ifs-nemo_20210616-20210630.grib', 'gfts-reference-data/ClimateDT/raw/slhf_ifs-nemo_20210616-20210630.grib', 'gfts-reference-data/ClimateDT/raw/slhf_ifs-nemo_20210616-20210630.grib', 'gfts-reference-data/ClimateDT/raw/slhf_ifs-nemo_20220601-20220615.grib', 'gfts-reference-data/ClimateDT/raw/slhf_ifs-nemo_20220601-20220615.grib', 'gfts-reference-data/ClimateDT/raw/slhf_ifs-nemo_20220601-20220615.grib', 'gfts-reference-data/ClimateDT/raw/slhf_ifs-nemo_20220601-20220615.grib', 'gfts-reference-data/ClimateDT/raw/slhf_ifs-nemo_20220601-20220615.grib', 'gfts-reference-data/ClimateDT/raw/slhf_ifs-nemo_20220616-20220630.grib', 'gfts-reference-data/ClimateDT/raw/slhf_ifs-nemo_20220616-20220630.grib', 'gfts-reference-data/ClimateDT/raw/slhf_ifs-nemo_20220616-20220630.grib', 'gfts-reference-data/ClimateDT/raw/slhf_ifs-nemo_20220616-20220630.grib', 'gfts-reference-data/ClimateDT/raw/slhf_ifs-nemo_20220616-20220630.grib', 'gfts-reference-data/ClimateDT/raw/slhf_ifs-nemo_20230601-20230615.grib', 'gfts-reference-data/ClimateDT/raw/slhf_ifs-nemo_20230601-20230615.grib', 'gfts-reference-data/ClimateDT/raw/slhf_ifs-nemo_20230601-20230615.grib', 'gfts-reference-data/ClimateDT/raw/slhf_ifs-nemo_20230601-20230615.grib', 'gfts-reference-data/ClimateDT/raw/slhf_ifs-nemo_20230601-20230615.grib', 'gfts-reference-data/ClimateDT/raw/slhf_ifs-nemo_20230616-20230630.grib', 'gfts-reference-data/ClimateDT/raw/slhf_ifs-nemo_20230616-20230630.grib', 'gfts-reference-data/ClimateDT/raw/slhf_ifs-nemo_20230616-20230630.grib', 'gfts-reference-data/ClimateDT/raw/slhf_ifs-nemo_20230616-20230630.grib', 'gfts-reference-data/ClimateDT/raw/slhf_ifs-nemo_20230616-20230630.grib', 'gfts-reference-data/ClimateDT/raw/slhf_ifs-nemo_20240601-20240615.grib', 'gfts-reference-data/ClimateDT/raw/slhf_ifs-nemo_20240601-20240615.grib', 'gfts-reference-data/ClimateDT/raw/slhf_ifs-nemo_20240601-20240615.grib', 'gfts-reference-data/ClimateDT/raw/slhf_ifs-nemo_20240601-20240615.grib', 'gfts-reference-data/ClimateDT/raw/slhf_ifs-nemo_20240601-20240615.grib', 'gfts-reference-data/ClimateDT/raw/slhf_ifs-nemo_20240616-20240630.grib', 'gfts-reference-data/ClimateDT/raw/slhf_ifs-nemo_20240616-20240630.grib', 'gfts-reference-data/ClimateDT/raw/slhf_ifs-nemo_20240616-20240630.grib', 'gfts-reference-data/ClimateDT/raw/slhf_ifs-nemo_20240616-20240630.grib', 'gfts-reference-data/ClimateDT/raw/slhf_ifs-nemo_20240616-20240630.grib', 'gfts-reference-data/ClimateDT/raw/sshf_ifs-nemo_20210601-20210615.grib', 'gfts-reference-data/ClimateDT/raw/sshf_ifs-nemo_20210601-20210615.grib', 'gfts-reference-data/ClimateDT/raw/sshf_ifs-nemo_20210601-20210615.grib', 'gfts-reference-data/ClimateDT/raw/sshf_ifs-nemo_20210601-20210615.grib', 'gfts-reference-data/ClimateDT/raw/sshf_ifs-nemo_20210601-20210615.grib', 'gfts-reference-data/ClimateDT/raw/sshf_ifs-nemo_20210616-20210630.grib', 'gfts-reference-data/ClimateDT/raw/sshf_ifs-nemo_20210616-20210630.grib', 'gfts-reference-data/ClimateDT/raw/sshf_ifs-nemo_20210616-20210630.grib', 'gfts-reference-data/ClimateDT/raw/sshf_ifs-nemo_20210616-20210630.grib', 'gfts-reference-data/ClimateDT/raw/sshf_ifs-nemo_20210616-20210630.grib', 'gfts-reference-data/ClimateDT/raw/sshf_ifs-nemo_20220601-20220615.grib', 'gfts-reference-data/ClimateDT/raw/sshf_ifs-nemo_20220601-20220615.grib', 'gfts-reference-data/ClimateDT/raw/sshf_ifs-nemo_20220601-20220615.grib', 'gfts-reference-data/ClimateDT/raw/sshf_ifs-nemo_20220601-20220615.grib', 'gfts-reference-data/ClimateDT/raw/sshf_ifs-nemo_20220601-20220615.grib', 'gfts-reference-data/ClimateDT/raw/sshf_ifs-nemo_20220616-20220630.grib', 'gfts-reference-data/ClimateDT/raw/sshf_ifs-nemo_20220616-20220630.grib', 'gfts-reference-data/ClimateDT/raw/sshf_ifs-nemo_20220616-20220630.grib', 'gfts-reference-data/ClimateDT/raw/sshf_ifs-nemo_20220616-20220630.grib', 'gfts-reference-data/ClimateDT/raw/sshf_ifs-nemo_20220616-20220630.grib', 'gfts-reference-data/ClimateDT/raw/sshf_ifs-nemo_20230601-20230615.grib', 'gfts-reference-data/ClimateDT/raw/sshf_ifs-nemo_20230601-20230615.grib', 'gfts-reference-data/ClimateDT/raw/sshf_ifs-nemo_20230601-20230615.grib', 'gfts-reference-data/ClimateDT/raw/sshf_ifs-nemo_20230601-20230615.grib', 'gfts-reference-data/ClimateDT/raw/sshf_ifs-nemo_20230601-20230615.grib', 'gfts-reference-data/ClimateDT/raw/sshf_ifs-nemo_20230616-20230630.grib', 'gfts-reference-data/ClimateDT/raw/sshf_ifs-nemo_20230616-20230630.grib', 'gfts-reference-data/ClimateDT/raw/sshf_ifs-nemo_20230616-20230630.grib', 'gfts-reference-data/ClimateDT/raw/sshf_ifs-nemo_20230616-20230630.grib', 'gfts-reference-data/ClimateDT/raw/sshf_ifs-nemo_20230616-20230630.grib', 'gfts-reference-data/ClimateDT/raw/sshf_ifs-nemo_20240601-20240615.grib', 'gfts-reference-data/ClimateDT/raw/sshf_ifs-nemo_20240601-20240615.grib', 'gfts-reference-data/ClimateDT/raw/sshf_ifs-nemo_20240601-20240615.grib', 'gfts-reference-data/ClimateDT/raw/sshf_ifs-nemo_20240601-20240615.grib', 'gfts-reference-data/ClimateDT/raw/sshf_ifs-nemo_20240601-20240615.grib', 'gfts-reference-data/ClimateDT/raw/sshf_ifs-nemo_20240616-20240630.grib', 'gfts-reference-data/ClimateDT/raw/sshf_ifs-nemo_20240616-20240630.grib', 'gfts-reference-data/ClimateDT/raw/sshf_ifs-nemo_20240616-20240630.grib', 'gfts-reference-data/ClimateDT/raw/sshf_ifs-nemo_20240616-20240630.grib', 'gfts-reference-data/ClimateDT/raw/sshf_ifs-nemo_20240616-20240630.grib']\n"
     ]
    }
   ],
   "source": [
    "remote_files3D = []\n",
    "remote_files2D = []\n",
    "for rf in remote_files:\n",
    "    for param in ocean3d_param:\n",
    "        if(rf.find(param)!=-1):\n",
    "            remote_files3D.append(rf)\n",
    "        else:\n",
    "            remote_files2D.append(rf)\n",
    "print(\"3D : \", remote_files3D)\n",
    "print(\"2D : \", remote_files2D)"
   ]
  },
  {
   "cell_type": "code",
   "execution_count": 9,
   "id": "e4ecd9c8-d335-4aeb-8448-067c7c5eec3c",
   "metadata": {},
   "outputs": [],
   "source": [
    "fs3d = fsspec.filesystem('')  #local file system to save final jsons to\n",
    "#so = dict(mode='rb', anon=True, default_fill_cache=False, default_cache_type='first') # args to fs.open()\n",
    "\n",
    "so = dict(anon=False,\n",
    "    profile=\"gfts\",\n",
    "    client_kwargs={\n",
    "        \"endpoint_url\": \"https://s3.gra.perf.cloud.ovh.net\",\n",
    "        \"region_name\": \"gra\",\n",
    "    },\n",
    "    default_fill_cache=False\n",
    ")\n",
    "\n",
    "# default_fill_cache=False avoids caching data in between file chunks to lowers memory usage."
   ]
  },
  {
   "cell_type": "code",
   "execution_count": 12,
   "id": "c7824c92-a51e-4782-b276-69801477c9c4",
   "metadata": {},
   "outputs": [],
   "source": [
    "def gen_json(file_url, so):\n",
    "    gribchunks = scan_grib(file_url, storage_options=so)\n",
    "        # inline threshold adjusts the Size below which binary blocks are included directly in the output\n",
    "        # a higher inline threshold can result in a larger json file but faster loading time\n",
    "    name = file_url.split('/')[-1].split('.')[0]\n",
    "    outf = f'{name}.json' #file name to save json to\n",
    "    print(outf)\n",
    "#    with fs2.open(outf, 'wb') as f:\n",
    "#        f.write(ujson.dumps(h5chunks.translate()).encode());"
   ]
  },
  {
   "cell_type": "code",
   "execution_count": 13,
   "id": "76135fe5-3163-41c0-a2d4-1cf77b1f4564",
   "metadata": {
    "scrolled": true
   },
   "outputs": [
    {
     "name": "stdout",
     "output_type": "stream",
     "text": [
      "gfts-reference-data/ClimateDT/raw/avg_so_ifs-nemo_20210601-20210615.grib\n"
     ]
    },
    {
     "ename": "KeyError",
     "evalue": "'Ny'",
     "output_type": "error",
     "traceback": [
      "\u001b[0;31m---------------------------------------------------------------------------\u001b[0m",
      "\u001b[0;31mKeyValueNotFoundError\u001b[0m                     Traceback (most recent call last)",
      "File \u001b[0;32m/srv/conda/envs/notebook/lib/python3.11/site-packages/cfgrib/messages.py:130\u001b[0m, in \u001b[0;36mMessage.message_get\u001b[0;34m(self, item, key_type, default)\u001b[0m\n\u001b[1;32m    129\u001b[0m \u001b[38;5;28;01mtry\u001b[39;00m:\n\u001b[0;32m--> 130\u001b[0m     \u001b[38;5;28;01mif\u001b[39;00m \u001b[43meccodes\u001b[49m\u001b[38;5;241;43m.\u001b[39;49m\u001b[43mcodes_get_size\u001b[49m\u001b[43m(\u001b[49m\u001b[38;5;28;43mself\u001b[39;49m\u001b[38;5;241;43m.\u001b[39;49m\u001b[43mcodes_id\u001b[49m\u001b[43m,\u001b[49m\u001b[43m \u001b[49m\u001b[43mitem\u001b[49m\u001b[43m)\u001b[49m \u001b[38;5;241m>\u001b[39m \u001b[38;5;241m1\u001b[39m:\n\u001b[1;32m    131\u001b[0m         values \u001b[38;5;241m=\u001b[39m eccodes\u001b[38;5;241m.\u001b[39mcodes_get_array(\u001b[38;5;28mself\u001b[39m\u001b[38;5;241m.\u001b[39mcodes_id, item, key_type)\n",
      "File \u001b[0;32m/srv/conda/envs/notebook/lib/python3.11/site-packages/gribapi/gribapi.py:595\u001b[0m, in \u001b[0;36mgrib_get_size\u001b[0;34m(msgid, key)\u001b[0m\n\u001b[1;32m    594\u001b[0m err \u001b[38;5;241m=\u001b[39m lib\u001b[38;5;241m.\u001b[39mgrib_get_size(h, key\u001b[38;5;241m.\u001b[39mencode(ENC), size_p)\n\u001b[0;32m--> 595\u001b[0m \u001b[43mGRIB_CHECK\u001b[49m\u001b[43m(\u001b[49m\u001b[43merr\u001b[49m\u001b[43m)\u001b[49m\n\u001b[1;32m    596\u001b[0m \u001b[38;5;28;01mreturn\u001b[39;00m size_p[\u001b[38;5;241m0\u001b[39m]\n",
      "File \u001b[0;32m/srv/conda/envs/notebook/lib/python3.11/site-packages/gribapi/gribapi.py:226\u001b[0m, in \u001b[0;36mGRIB_CHECK\u001b[0;34m(errid)\u001b[0m\n\u001b[1;32m    225\u001b[0m \u001b[38;5;28;01mif\u001b[39;00m errid:\n\u001b[0;32m--> 226\u001b[0m     \u001b[43merrors\u001b[49m\u001b[38;5;241;43m.\u001b[39;49m\u001b[43mraise_grib_error\u001b[49m\u001b[43m(\u001b[49m\u001b[43merrid\u001b[49m\u001b[43m)\u001b[49m\n",
      "File \u001b[0;32m/srv/conda/envs/notebook/lib/python3.11/site-packages/gribapi/errors.py:381\u001b[0m, in \u001b[0;36mraise_grib_error\u001b[0;34m(errid)\u001b[0m\n\u001b[1;32m    378\u001b[0m \u001b[38;5;250m\u001b[39m\u001b[38;5;124;03m\"\"\"\u001b[39;00m\n\u001b[1;32m    379\u001b[0m \u001b[38;5;124;03mRaise the GribInternalError corresponding to ``errid``.\u001b[39;00m\n\u001b[1;32m    380\u001b[0m \u001b[38;5;124;03m\"\"\"\u001b[39;00m\n\u001b[0;32m--> 381\u001b[0m \u001b[38;5;28;01mraise\u001b[39;00m ERROR_MAP[errid](errid)\n",
      "\u001b[0;31mKeyValueNotFoundError\u001b[0m: Key/value not found",
      "\nDuring handling of the above exception, another exception occurred:\n",
      "\u001b[0;31mKeyError\u001b[0m                                  Traceback (most recent call last)",
      "File \u001b[0;32m<timed exec>:3\u001b[0m\n",
      "Cell \u001b[0;32mIn[12], line 2\u001b[0m, in \u001b[0;36mgen_json\u001b[0;34m(file_url, so)\u001b[0m\n\u001b[1;32m      1\u001b[0m \u001b[38;5;28;01mdef\u001b[39;00m \u001b[38;5;21mgen_json\u001b[39m(file_url, so):\n\u001b[0;32m----> 2\u001b[0m     gribchunks \u001b[38;5;241m=\u001b[39m \u001b[43mscan_grib\u001b[49m\u001b[43m(\u001b[49m\u001b[43mfile_url\u001b[49m\u001b[43m,\u001b[49m\u001b[43m \u001b[49m\u001b[43mstorage_options\u001b[49m\u001b[38;5;241;43m=\u001b[39;49m\u001b[43mso\u001b[49m\u001b[43m)\u001b[49m\n\u001b[1;32m      3\u001b[0m         \u001b[38;5;66;03m# inline threshold adjusts the Size below which binary blocks are included directly in the output\u001b[39;00m\n\u001b[1;32m      4\u001b[0m         \u001b[38;5;66;03m# a higher inline threshold can result in a larger json file but faster loading time\u001b[39;00m\n\u001b[1;32m      5\u001b[0m     name \u001b[38;5;241m=\u001b[39m file_url\u001b[38;5;241m.\u001b[39msplit(\u001b[38;5;124m'\u001b[39m\u001b[38;5;124m/\u001b[39m\u001b[38;5;124m'\u001b[39m)[\u001b[38;5;241m-\u001b[39m\u001b[38;5;241m1\u001b[39m]\u001b[38;5;241m.\u001b[39msplit(\u001b[38;5;124m'\u001b[39m\u001b[38;5;124m.\u001b[39m\u001b[38;5;124m'\u001b[39m)[\u001b[38;5;241m0\u001b[39m]\n",
      "File \u001b[0;32m/srv/conda/envs/notebook/lib/python3.11/site-packages/kerchunk/grib2.py:177\u001b[0m, in \u001b[0;36mscan_grib\u001b[0;34m(url, common, storage_options, inline_threshold, skip, filter)\u001b[0m\n\u001b[1;32m    169\u001b[0m message_keys \u001b[38;5;241m=\u001b[39m \u001b[38;5;28mset\u001b[39m(m\u001b[38;5;241m.\u001b[39mmessage_grib_keys())\n\u001b[1;32m    170\u001b[0m \u001b[38;5;66;03m# The choices here copy cfgrib :(\u001b[39;00m\n\u001b[1;32m    171\u001b[0m \u001b[38;5;66;03m# message_keys.update(cfgrib.dataset.INDEX_KEYS)\u001b[39;00m\n\u001b[1;32m    172\u001b[0m \u001b[38;5;66;03m# message_keys.update(TIME_DIMS)\u001b[39;00m\n\u001b[1;32m    173\u001b[0m \u001b[38;5;66;03m# print(\"totalNumber\" in cfgrib.dataset.INDEX_KEYS)\u001b[39;00m\n\u001b[1;32m    174\u001b[0m \u001b[38;5;66;03m# Adding computed keys adds a lot that isn't added by cfgrib\u001b[39;00m\n\u001b[1;32m    175\u001b[0m \u001b[38;5;66;03m# message_keys.extend(m.computed_keys)\u001b[39;00m\n\u001b[0;32m--> 177\u001b[0m shape \u001b[38;5;241m=\u001b[39m (\u001b[43mm\u001b[49m\u001b[43m[\u001b[49m\u001b[38;5;124;43m\"\u001b[39;49m\u001b[38;5;124;43mNy\u001b[39;49m\u001b[38;5;124;43m\"\u001b[39;49m\u001b[43m]\u001b[49m, m[\u001b[38;5;124m\"\u001b[39m\u001b[38;5;124mNx\u001b[39m\u001b[38;5;124m\"\u001b[39m])\n\u001b[1;32m    178\u001b[0m \u001b[38;5;66;03m# thank you, gribscan\u001b[39;00m\n\u001b[1;32m    179\u001b[0m native_type \u001b[38;5;241m=\u001b[39m eccodes\u001b[38;5;241m.\u001b[39mcodes_get_native_type(m\u001b[38;5;241m.\u001b[39mcodes_id, \u001b[38;5;124m\"\u001b[39m\u001b[38;5;124mvalues\u001b[39m\u001b[38;5;124m\"\u001b[39m)\n",
      "File \u001b[0;32m/srv/conda/envs/notebook/lib/python3.11/site-packages/cfgrib/messages.py:215\u001b[0m, in \u001b[0;36mComputedKeysMessage.__getitem__\u001b[0;34m(self, item)\u001b[0m\n\u001b[1;32m    213\u001b[0m     \u001b[38;5;28;01mreturn\u001b[39;00m getter(\u001b[38;5;28mself\u001b[39m)\n\u001b[1;32m    214\u001b[0m \u001b[38;5;28;01melse\u001b[39;00m:\n\u001b[0;32m--> 215\u001b[0m     \u001b[38;5;28;01mreturn\u001b[39;00m \u001b[38;5;28;43msuper\u001b[39;49m\u001b[43m(\u001b[49m\u001b[43mComputedKeysMessage\u001b[49m\u001b[43m,\u001b[49m\u001b[43m \u001b[49m\u001b[38;5;28;43mself\u001b[39;49m\u001b[43m)\u001b[49m\u001b[38;5;241;43m.\u001b[39;49m\u001b[38;5;21;43m__getitem__\u001b[39;49m\u001b[43m(\u001b[49m\u001b[43mitem\u001b[49m\u001b[43m)\u001b[49m\n",
      "File \u001b[0;32m/srv/conda/envs/notebook/lib/python3.11/site-packages/cfgrib/messages.py:168\u001b[0m, in \u001b[0;36mMessage.__getitem__\u001b[0;34m(self, item)\u001b[0m\n\u001b[1;32m    166\u001b[0m     \u001b[38;5;28;01mraise\u001b[39;00m \u001b[38;5;167;01mValueError\u001b[39;00m(\u001b[38;5;124m\"\u001b[39m\u001b[38;5;124mkey type not supported \u001b[39m\u001b[38;5;132;01m%r\u001b[39;00m\u001b[38;5;124m\"\u001b[39m \u001b[38;5;241m%\u001b[39m key_type_text)\n\u001b[1;32m    167\u001b[0m key_type \u001b[38;5;241m=\u001b[39m KEY_TYPES[key_type_text]\n\u001b[0;32m--> 168\u001b[0m \u001b[38;5;28;01mreturn\u001b[39;00m \u001b[38;5;28;43mself\u001b[39;49m\u001b[38;5;241;43m.\u001b[39;49m\u001b[43mmessage_get\u001b[49m\u001b[43m(\u001b[49m\u001b[43mkey\u001b[49m\u001b[43m,\u001b[49m\u001b[43m \u001b[49m\u001b[43mkey_type\u001b[49m\u001b[38;5;241;43m=\u001b[39;49m\u001b[43mkey_type\u001b[49m\u001b[43m)\u001b[49m\n",
      "File \u001b[0;32m/srv/conda/envs/notebook/lib/python3.11/site-packages/cfgrib/messages.py:146\u001b[0m, in \u001b[0;36mMessage.message_get\u001b[0;34m(self, item, key_type, default)\u001b[0m\n\u001b[1;32m    144\u001b[0m \u001b[38;5;28;01mexcept\u001b[39;00m eccodes\u001b[38;5;241m.\u001b[39mKeyValueNotFoundError:\n\u001b[1;32m    145\u001b[0m     \u001b[38;5;28;01mif\u001b[39;00m default \u001b[38;5;129;01mis\u001b[39;00m _MARKER:\n\u001b[0;32m--> 146\u001b[0m         \u001b[38;5;28;01mraise\u001b[39;00m \u001b[38;5;167;01mKeyError\u001b[39;00m(item)\n\u001b[1;32m    147\u001b[0m     \u001b[38;5;28;01melse\u001b[39;00m:\n\u001b[1;32m    148\u001b[0m         \u001b[38;5;28;01mreturn\u001b[39;00m default\n",
      "\u001b[0;31mKeyError\u001b[0m: 'Ny'"
     ]
    }
   ],
   "source": [
    "%%time\n",
    "for file in remote_files3D:\n",
    "    print(file)\n",
    "    gen_json(\"s3://\" + file, so)"
   ]
  },
  {
   "cell_type": "code",
   "execution_count": null,
   "id": "2abe1dd2-5f86-4e58-b9ca-8f27bad90a8c",
   "metadata": {},
   "outputs": [],
   "source": []
  }
 ],
 "metadata": {
  "kernelspec": {
   "display_name": "Python 3 (ipykernel)",
   "language": "python",
   "name": "python3"
  },
  "language_info": {
   "codemirror_mode": {
    "name": "ipython",
    "version": 3
   },
   "file_extension": ".py",
   "mimetype": "text/x-python",
   "name": "python",
   "nbconvert_exporter": "python",
   "pygments_lexer": "ipython3",
   "version": "3.11.8"
  }
 },
 "nbformat": 4,
 "nbformat_minor": 5
}
